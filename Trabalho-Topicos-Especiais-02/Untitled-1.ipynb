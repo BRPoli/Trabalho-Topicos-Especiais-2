{
 "cells": [
  {
   "cell_type": "code",
   "execution_count": 10,
   "metadata": {},
   "outputs": [],
   "source": [
    "import pandas as pd\n",
    "import sqlite3\n",
    "from pathlib import Path\n",
    "import time\n",
    "from datetime import datetime\n",
    "from sqlalchemy import create_engine"
   ]
  },
  {
   "cell_type": "code",
   "execution_count": 2,
   "metadata": {},
   "outputs": [],
   "source": [
    "\n",
    "conn = sqlite3.connect('Data/biblioteca.db')\n",
    "cursor = conn.cursor()\n",
    "cursor.execute('''\n",
    "    CREATE TABLE IF NOT EXISTS livros (\n",
    "               ID INTEGER PRIMARY KEY AUTOINCREMENT,\n",
    "               Titulo TEXT NOT_NULL UNIQUE,\n",
    "               Autor TEXT NOT_NULL,\n",
    "               Ano_de_Publicação DATE NOT_NULL,\n",
    "               Preco FLOAT NOT_UNIQUE\n",
    "    )\n",
    "''')\n",
    "cursor.close()"
   ]
  },
  {
   "cell_type": "markdown",
   "metadata": {},
   "source": [
    "criando dataframe do sql"
   ]
  },
  {
   "cell_type": "code",
   "execution_count": 15,
   "metadata": {},
   "outputs": [],
   "source": [
    "conn = sqlite3.connect('Data/biblioteca.db')\n",
    "sql_query = pd.read_sql_query(\n",
    "    \"\"\" SELECT * FROM livros\"\"\", conn,\n",
    "    )  \n",
    "df = pd.DataFrame(sql_query, columns=[\"Titulo\", \"Autor\", \"Ano_de_publicação\", \"Preco\"])\n",
    "conn.close()"
   ]
  },
  {
   "cell_type": "markdown",
   "metadata": {},
   "source": [
    "Backup"
   ]
  },
  {
   "cell_type": "code",
   "execution_count": 4,
   "metadata": {},
   "outputs": [],
   "source": [
    "def Backup():\n",
    "    currentDateTime = datetime.now().strftime(\"%m-%d-%Y %H-%M-%S %p\")\n",
    "    backup = Path(f'/Users/Pichau/Documents/Ciências Computação/Tópicos-Especiais/Trabalho-Topicos-Especiais-02/Backup/Backup{currentDateTime}.csv')  \n",
    "    backup.parent.mkdir(parents=True, exist_ok=True) \n",
    "    df.to_csv(backup) "
   ]
  },
  {
   "cell_type": "markdown",
   "metadata": {},
   "source": [
    "Adiciona novo livro"
   ]
  },
  {
   "cell_type": "code",
   "execution_count": 13,
   "metadata": {},
   "outputs": [
    {
     "ename": "OperationalError",
     "evalue": "database is locked",
     "output_type": "error",
     "traceback": [
      "\u001b[1;31m---------------------------------------------------------------------------\u001b[0m",
      "\u001b[1;31mOperationalError\u001b[0m                          Traceback (most recent call last)",
      "Cell \u001b[1;32mIn[13], line 10\u001b[0m\n\u001b[0;32m      8\u001b[0m ano_publicacao \u001b[38;5;241m=\u001b[39m \u001b[38;5;28minput\u001b[39m(\u001b[38;5;124m'\u001b[39m\u001b[38;5;124mAno de publicação: \u001b[39m\u001b[38;5;124m'\u001b[39m)\n\u001b[0;32m      9\u001b[0m preco \u001b[38;5;241m=\u001b[39m \u001b[38;5;28mfloat\u001b[39m(\u001b[38;5;28minput\u001b[39m(\u001b[38;5;124m\"\u001b[39m\u001b[38;5;124mPreço: \u001b[39m\u001b[38;5;124m\"\u001b[39m))\n\u001b[1;32m---> 10\u001b[0m \u001b[43mcursor\u001b[49m\u001b[38;5;241;43m.\u001b[39;49m\u001b[43mexecute\u001b[49m\u001b[43m(\u001b[49m\u001b[38;5;124;43m'''\u001b[39;49m\n\u001b[0;32m     11\u001b[0m \u001b[38;5;124;43m                INSERT INTO livros (Titulo, Autor, Ano_de_publicação, Preco) VALUES(?, ?, ?, ?)\u001b[39;49m\n\u001b[0;32m     12\u001b[0m \u001b[38;5;124;43m                \u001b[39;49m\u001b[38;5;124;43m'''\u001b[39;49m\u001b[43m,\u001b[49m\u001b[43m \u001b[49m\u001b[43m(\u001b[49m\u001b[43mtitulo\u001b[49m\u001b[43m,\u001b[49m\u001b[43m \u001b[49m\u001b[43mautor\u001b[49m\u001b[43m,\u001b[49m\u001b[43m \u001b[49m\u001b[43mano_publicacao\u001b[49m\u001b[43m,\u001b[49m\u001b[43m \u001b[49m\u001b[43mpreco\u001b[49m\u001b[43m)\u001b[49m\u001b[43m)\u001b[49m\n\u001b[0;32m     13\u001b[0m att_dataframe()\n\u001b[0;32m     14\u001b[0m conn\u001b[38;5;241m.\u001b[39mcommit()\n",
      "\u001b[1;31mOperationalError\u001b[0m: database is locked"
     ]
    }
   ],
   "source": [
    "conn = sqlite3.connect('Data/biblioteca.db')\n",
    "cursor = conn.cursor()\n",
    "\n",
    "Backup()\n",
    "\n",
    "titulo = input('Titulo: ').title()\n",
    "autor = input('Autor: ').title()\n",
    "ano_publicacao = input('Ano de publicação: ')\n",
    "preco = float(input(\"Preço: \"))\n",
    "cursor.execute('''\n",
    "                INSERT INTO livros (Titulo, Autor, Ano_de_publicação, Preco) VALUES(?, ?, ?, ?)\n",
    "                ''', (titulo, autor, ano_publicacao, preco))\n",
    "conn.commit()\n",
    "sql_query = pd.read_sql_query(\n",
    "    \"\"\" SELECT * FROM livros\"\"\", conn,\n",
    "    )  \n",
    "df = pd.DataFrame(sql_query, columns=[\"Titulo\", \"Autor\", \"Ano_de_publicação\", \"Preco\"])\n",
    "cursor.close"
   ]
  },
  {
   "cell_type": "markdown",
   "metadata": {},
   "source": [
    "lista livros"
   ]
  },
  {
   "cell_type": "code",
   "execution_count": 17,
   "metadata": {},
   "outputs": [
    {
     "name": "stdout",
     "output_type": "stream",
     "text": [
      "  Titulo Autor  Ano_de_publicação  Preco\n",
      "0      A     A                NaN    3.0\n"
     ]
    }
   ],
   "source": [
    "conn = sqlite3.connect('Data/biblioteca.db')\n",
    "sql_query = pd.read_sql_query(\n",
    "    \"\"\" SELECT * FROM livros\"\"\", conn,\n",
    "    )  \n",
    "df = pd.DataFrame(sql_query, columns=[\"Titulo\", \"Autor\", \"Ano_de_publicação\", \"Preco\"])\n",
    "conn.close()\n",
    "df.set_index('Titulo')\n",
    "print(df)\n"
   ]
  },
  {
   "cell_type": "markdown",
   "metadata": {},
   "source": [
    "atualiza preço"
   ]
  },
  {
   "cell_type": "code",
   "execution_count": 9,
   "metadata": {},
   "outputs": [
    {
     "name": "stdout",
     "output_type": "stream",
     "text": [
      "Empty DataFrame\n",
      "Columns: [Titulo, Autor, Ano_de_publicação, Preco]\n",
      "Index: []\n"
     ]
    }
   ],
   "source": [
    "conn = sqlite3.connect('Data/biblioteca.db')\n",
    "cursor = conn.cursor()\n",
    "\n",
    "Backup()\n",
    "\n",
    "print(df)\n",
    "busca = input(\"Insira o título do livro: \").title()\n",
    "novo_preco = float(input(\"Insira o novo preço do Livro: \"))\n",
    "cursor.execute('''\n",
    "                UPDATE livros\n",
    "                SET Preco = ?\n",
    "                WHERE Titulo = ?\n",
    "               ''', (novo_preco, busca))\n",
    "conn.commit()\n",
    "sql_query = pd.read_sql_query(\n",
    "    \"\"\" SELECT * FROM livros\"\"\", conn,\n",
    "    )  \n",
    "df = pd.DataFrame(sql_query, columns=[\"Titulo\", \"Autor\", \"Ano_de_publicação\", \"Preco\"])\n",
    "conn.close()"
   ]
  },
  {
   "cell_type": "markdown",
   "metadata": {},
   "source": [
    "remover livro"
   ]
  },
  {
   "cell_type": "code",
   "execution_count": 18,
   "metadata": {},
   "outputs": [
    {
     "name": "stdout",
     "output_type": "stream",
     "text": [
      "  Titulo Autor  Ano_de_publicação  Preco\n",
      "0      A     A                NaN    3.0\n"
     ]
    },
    {
     "ename": "OperationalError",
     "evalue": "database is locked",
     "output_type": "error",
     "traceback": [
      "\u001b[1;31m---------------------------------------------------------------------------\u001b[0m",
      "\u001b[1;31mOperationalError\u001b[0m                          Traceback (most recent call last)",
      "Cell \u001b[1;32mIn[18], line 8\u001b[0m\n\u001b[0;32m      6\u001b[0m \u001b[38;5;28mprint\u001b[39m(df)\n\u001b[0;32m      7\u001b[0m busca \u001b[38;5;241m=\u001b[39m \u001b[38;5;28minput\u001b[39m(\u001b[38;5;124m\"\u001b[39m\u001b[38;5;124mInsira o título do livro: \u001b[39m\u001b[38;5;124m\"\u001b[39m)\u001b[38;5;241m.\u001b[39mtitle()\n\u001b[1;32m----> 8\u001b[0m \u001b[43mcursor\u001b[49m\u001b[38;5;241;43m.\u001b[39;49m\u001b[43mexecute\u001b[49m\u001b[43m(\u001b[49m\u001b[38;5;124;43m'''\u001b[39;49m\n\u001b[0;32m      9\u001b[0m \u001b[38;5;124;43m                DELETE FROM livros\u001b[39;49m\n\u001b[0;32m     10\u001b[0m \u001b[38;5;124;43m                WHERE Titulo = ?\u001b[39;49m\n\u001b[0;32m     11\u001b[0m \u001b[38;5;124;43m               \u001b[39;49m\u001b[38;5;124;43m'''\u001b[39;49m\u001b[43m,\u001b[49m\u001b[43m \u001b[49m\u001b[43m(\u001b[49m\u001b[43mbusca\u001b[49m\u001b[43m)\u001b[49m\u001b[43m)\u001b[49m\n\u001b[0;32m     12\u001b[0m conn\u001b[38;5;241m.\u001b[39mcommit()\n\u001b[0;32m     13\u001b[0m sql_query \u001b[38;5;241m=\u001b[39m pd\u001b[38;5;241m.\u001b[39mread_sql_query(\n\u001b[0;32m     14\u001b[0m \u001b[38;5;250m    \u001b[39m\u001b[38;5;124;03m\"\"\" SELECT * FROM livros\"\"\"\u001b[39;00m, conn,\n\u001b[0;32m     15\u001b[0m     )  \n",
      "\u001b[1;31mOperationalError\u001b[0m: database is locked"
     ]
    }
   ],
   "source": [
    "conn = sqlite3.connect('Data/biblioteca.db')\n",
    "cursor = conn.cursor()\n",
    "\n",
    "Backup()\n",
    "\n",
    "print(df)\n",
    "busca = input(\"Insira o título do livro: \").title()\n",
    "cursor.execute('''\n",
    "                DELETE FROM livros\n",
    "                WHERE Titulo = ?\n",
    "               ''', (busca))\n",
    "conn.commit()\n",
    "sql_query = pd.read_sql_query(\n",
    "    \"\"\" SELECT * FROM livros\"\"\", conn,\n",
    "    )  \n",
    "df = pd.DataFrame(sql_query, columns=[\"Titulo\", \"Autor\", \"Ano_de_publicação\", \"Preco\"])\n",
    "conn.close()"
   ]
  },
  {
   "cell_type": "markdown",
   "metadata": {},
   "source": [
    "listar por autor"
   ]
  },
  {
   "cell_type": "code",
   "execution_count": 38,
   "metadata": {},
   "outputs": [
    {
     "data": {
      "text/plain": [
       "Titulo                  A\n",
       "Ano_de_publicação     NaN\n",
       "Preco                22.0\n",
       "Name: A, dtype: object"
      ]
     },
     "execution_count": 38,
     "metadata": {},
     "output_type": "execute_result"
    }
   ],
   "source": [
    "df_autor = df.set_index('Autor')\n",
    "df_autor.loc[input(\"Insira o nome do autor:\").title()]"
   ]
  },
  {
   "cell_type": "markdown",
   "metadata": {},
   "source": [
    "Exportar para CSV"
   ]
  },
  {
   "cell_type": "code",
   "execution_count": 9,
   "metadata": {},
   "outputs": [
    {
     "name": "stdout",
     "output_type": "stream",
     "text": [
      "Arquivo CSV criando na Pasta CSV\n"
     ]
    }
   ],
   "source": [
    "conn = sqlite3.connect('Data/biblioteca.db')\n",
    "sql_query = pd.read_sql_query(\n",
    "    \"\"\" SELECT * FROM livros\"\"\", conn,\n",
    ")\n",
    "df = pd.DataFrame(sql_query, columns=[\"Titulo\", \"Autor\", \"Ano_de_publicação\", \"Preco\"])\n",
    "novo_csv = Path(f'/Users/Pichau/Documents/Ciências Computação/Tópicos-Especiais/Trabalho-Topicos-Especiais-02/CSV/{input(\"Insira o nome do arquivo CSV: \").title()}.csv')  \n",
    "novo_csv.parent.mkdir(parents=True, exist_ok=True)\n",
    "df.to_csv(novo_csv)\n",
    "print(\"Arquivo CSV criando na Pasta CSV\")"
   ]
  }
 ],
 "metadata": {
  "kernelspec": {
   "display_name": "Python 3",
   "language": "python",
   "name": "python3"
  },
  "language_info": {
   "codemirror_mode": {
    "name": "ipython",
    "version": 3
   },
   "file_extension": ".py",
   "mimetype": "text/x-python",
   "name": "python",
   "nbconvert_exporter": "python",
   "pygments_lexer": "ipython3",
   "version": "3.12.6"
  }
 },
 "nbformat": 4,
 "nbformat_minor": 2
}
